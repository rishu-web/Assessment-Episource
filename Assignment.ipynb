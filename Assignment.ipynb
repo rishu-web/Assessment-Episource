{
 "cells": [
  {
   "cell_type": "code",
   "execution_count": 44,
   "id": "dcbb51ac",
   "metadata": {},
   "outputs": [],
   "source": [
    "import pandas as pd"
   ]
  },
  {
   "cell_type": "code",
   "execution_count": 45,
   "id": "60bcf7c5",
   "metadata": {},
   "outputs": [],
   "source": [
    "df=pd.read_json('loan_data.json')"
   ]
  },
  {
   "cell_type": "code",
   "execution_count": 46,
   "id": "4a00238f",
   "metadata": {},
   "outputs": [
    {
     "data": {
      "text/html": [
       "<div>\n",
       "<style scoped>\n",
       "    .dataframe tbody tr th:only-of-type {\n",
       "        vertical-align: middle;\n",
       "    }\n",
       "\n",
       "    .dataframe tbody tr th {\n",
       "        vertical-align: top;\n",
       "    }\n",
       "\n",
       "    .dataframe thead th {\n",
       "        text-align: right;\n",
       "    }\n",
       "</style>\n",
       "<table border=\"1\" class=\"dataframe\">\n",
       "  <thead>\n",
       "    <tr style=\"text-align: right;\">\n",
       "      <th></th>\n",
       "      <th>Application_ID</th>\n",
       "      <th>Gender</th>\n",
       "      <th>Married</th>\n",
       "      <th>Dependents</th>\n",
       "      <th>Education</th>\n",
       "      <th>Self_Employed</th>\n",
       "      <th>Credit_History</th>\n",
       "      <th>Property_Area</th>\n",
       "      <th>Income</th>\n",
       "      <th>Application_Status</th>\n",
       "    </tr>\n",
       "  </thead>\n",
       "  <tbody>\n",
       "    <tr>\n",
       "      <th>0</th>\n",
       "      <td>LP001002</td>\n",
       "      <td>Male</td>\n",
       "      <td>No</td>\n",
       "      <td>0</td>\n",
       "      <td>Graduate</td>\n",
       "      <td>No</td>\n",
       "      <td>1</td>\n",
       "      <td>Urban</td>\n",
       "      <td>medium</td>\n",
       "      <td>Y</td>\n",
       "    </tr>\n",
       "    <tr>\n",
       "      <th>1</th>\n",
       "      <td>LP001003</td>\n",
       "      <td>Male</td>\n",
       "      <td>Yes</td>\n",
       "      <td>1</td>\n",
       "      <td>Graduate</td>\n",
       "      <td>No</td>\n",
       "      <td>1</td>\n",
       "      <td>Rural</td>\n",
       "      <td>medium</td>\n",
       "      <td>N</td>\n",
       "    </tr>\n",
       "    <tr>\n",
       "      <th>2</th>\n",
       "      <td>LP001005</td>\n",
       "      <td>Male</td>\n",
       "      <td>Yes</td>\n",
       "      <td>0</td>\n",
       "      <td>Graduate</td>\n",
       "      <td>Yes</td>\n",
       "      <td>1</td>\n",
       "      <td>Urban</td>\n",
       "      <td>low</td>\n",
       "      <td>Y</td>\n",
       "    </tr>\n",
       "    <tr>\n",
       "      <th>3</th>\n",
       "      <td>LP001006</td>\n",
       "      <td>Male</td>\n",
       "      <td>Yes</td>\n",
       "      <td>0</td>\n",
       "      <td>Not Graduate</td>\n",
       "      <td>No</td>\n",
       "      <td>1</td>\n",
       "      <td>Urban</td>\n",
       "      <td>low</td>\n",
       "      <td>Y</td>\n",
       "    </tr>\n",
       "    <tr>\n",
       "      <th>4</th>\n",
       "      <td>LP001008</td>\n",
       "      <td>Male</td>\n",
       "      <td>No</td>\n",
       "      <td>0</td>\n",
       "      <td>Graduate</td>\n",
       "      <td>No</td>\n",
       "      <td>1</td>\n",
       "      <td>Urban</td>\n",
       "      <td>medium</td>\n",
       "      <td>Y</td>\n",
       "    </tr>\n",
       "    <tr>\n",
       "      <th>...</th>\n",
       "      <td>...</td>\n",
       "      <td>...</td>\n",
       "      <td>...</td>\n",
       "      <td>...</td>\n",
       "      <td>...</td>\n",
       "      <td>...</td>\n",
       "      <td>...</td>\n",
       "      <td>...</td>\n",
       "      <td>...</td>\n",
       "      <td>...</td>\n",
       "    </tr>\n",
       "    <tr>\n",
       "      <th>506</th>\n",
       "      <td>LP002978</td>\n",
       "      <td>Female</td>\n",
       "      <td>No</td>\n",
       "      <td>0</td>\n",
       "      <td>Graduate</td>\n",
       "      <td>No</td>\n",
       "      <td>1</td>\n",
       "      <td>Rural</td>\n",
       "      <td>low</td>\n",
       "      <td>Y</td>\n",
       "    </tr>\n",
       "    <tr>\n",
       "      <th>507</th>\n",
       "      <td>LP002979</td>\n",
       "      <td>Male</td>\n",
       "      <td>Yes</td>\n",
       "      <td>3+</td>\n",
       "      <td>Graduate</td>\n",
       "      <td>No</td>\n",
       "      <td>1</td>\n",
       "      <td>Rural</td>\n",
       "      <td>medium</td>\n",
       "      <td>Y</td>\n",
       "    </tr>\n",
       "    <tr>\n",
       "      <th>508</th>\n",
       "      <td>LP002983</td>\n",
       "      <td>Male</td>\n",
       "      <td>Yes</td>\n",
       "      <td>1</td>\n",
       "      <td>Graduate</td>\n",
       "      <td>No</td>\n",
       "      <td>1</td>\n",
       "      <td>Urban</td>\n",
       "      <td>medium</td>\n",
       "      <td>Y</td>\n",
       "    </tr>\n",
       "    <tr>\n",
       "      <th>509</th>\n",
       "      <td>LP002984</td>\n",
       "      <td>Male</td>\n",
       "      <td>Yes</td>\n",
       "      <td>2</td>\n",
       "      <td>Graduate</td>\n",
       "      <td>No</td>\n",
       "      <td>1</td>\n",
       "      <td>Urban</td>\n",
       "      <td>medium</td>\n",
       "      <td>Y</td>\n",
       "    </tr>\n",
       "    <tr>\n",
       "      <th>510</th>\n",
       "      <td>LP002990</td>\n",
       "      <td>Female</td>\n",
       "      <td>No</td>\n",
       "      <td>0</td>\n",
       "      <td>Graduate</td>\n",
       "      <td>Yes</td>\n",
       "      <td>0</td>\n",
       "      <td>Semiurban</td>\n",
       "      <td>medium</td>\n",
       "      <td>N</td>\n",
       "    </tr>\n",
       "  </tbody>\n",
       "</table>\n",
       "<p>511 rows × 10 columns</p>\n",
       "</div>"
      ],
      "text/plain": [
       "    Application_ID  Gender Married Dependents     Education Self_Employed  \\\n",
       "0         LP001002    Male      No          0      Graduate            No   \n",
       "1         LP001003    Male     Yes          1      Graduate            No   \n",
       "2         LP001005    Male     Yes          0      Graduate           Yes   \n",
       "3         LP001006    Male     Yes          0  Not Graduate            No   \n",
       "4         LP001008    Male      No          0      Graduate            No   \n",
       "..             ...     ...     ...        ...           ...           ...   \n",
       "506       LP002978  Female      No          0      Graduate            No   \n",
       "507       LP002979    Male     Yes         3+      Graduate            No   \n",
       "508       LP002983    Male     Yes          1      Graduate            No   \n",
       "509       LP002984    Male     Yes          2      Graduate            No   \n",
       "510       LP002990  Female      No          0      Graduate           Yes   \n",
       "\n",
       "     Credit_History Property_Area  Income Application_Status  \n",
       "0                 1         Urban  medium                  Y  \n",
       "1                 1         Rural  medium                  N  \n",
       "2                 1         Urban     low                  Y  \n",
       "3                 1         Urban     low                  Y  \n",
       "4                 1         Urban  medium                  Y  \n",
       "..              ...           ...     ...                ...  \n",
       "506               1         Rural     low                  Y  \n",
       "507               1         Rural  medium                  Y  \n",
       "508               1         Urban  medium                  Y  \n",
       "509               1         Urban  medium                  Y  \n",
       "510               0     Semiurban  medium                  N  \n",
       "\n",
       "[511 rows x 10 columns]"
      ]
     },
     "execution_count": 46,
     "metadata": {},
     "output_type": "execute_result"
    }
   ],
   "source": [
    "df"
   ]
  },
  {
   "cell_type": "code",
   "execution_count": 47,
   "id": "f3de4b28",
   "metadata": {},
   "outputs": [],
   "source": [
    "un_depend=df['Dependents'].value_counts()"
   ]
  },
  {
   "cell_type": "code",
   "execution_count": 48,
   "id": "4be3cabb",
   "metadata": {},
   "outputs": [
    {
     "data": {
      "text/plain": [
       "0     294\n",
       "2      88\n",
       "1      85\n",
       "3+     44\n",
       "Name: Dependents, dtype: int64"
      ]
     },
     "execution_count": 48,
     "metadata": {},
     "output_type": "execute_result"
    }
   ],
   "source": [
    "un_depend"
   ]
  },
  {
   "cell_type": "code",
   "execution_count": 49,
   "id": "90accb9a",
   "metadata": {},
   "outputs": [
    {
     "name": "stdout",
     "output_type": "stream",
     "text": [
      "Percentage of applicants in following dependents: \n",
      "0 : 57.534246575342465\n",
      "1 : 17.22113502935421\n",
      "2 : 16.634050880626223\n",
      "3+ : 8.610567514677104\n"
     ]
    }
   ],
   "source": [
    "x=['0','1','2','3+']\n",
    "print(\"Percentage of applicants in following dependents: \")\n",
    "for i,j in zip(x,un_depend):\n",
    "    print(\"{} : {}\".format(i,j/sum(un_depend)*100))\n",
    "    "
   ]
  },
  {
   "cell_type": "code",
   "execution_count": 50,
   "id": "9b2fa22d",
   "metadata": {},
   "outputs": [
    {
     "name": "stdout",
     "output_type": "stream",
     "text": [
      "Percentage of applications approved for self-employed applicants : 65.71428571428571\n"
     ]
    }
   ],
   "source": [
    "c=0\n",
    "d=0\n",
    "for i,j in zip(df['Self_Employed'],df['Application_Status']):\n",
    "    if i=='Yes' and j=='Y':\n",
    "        c=c+1\n",
    "    if i=='Yes':\n",
    "        d=d+1\n",
    "print(\"Percentage of applications approved for self-employed applicants : {}\".format(c/d*100))"
   ]
  },
  {
   "cell_type": "code",
   "execution_count": 51,
   "id": "deb74ebb",
   "metadata": {},
   "outputs": [
    {
     "name": "stdout",
     "output_type": "stream",
     "text": [
      "% of rejections for married male applicants : 28.431372549019606\n"
     ]
    }
   ],
   "source": [
    "c=0\n",
    "d=0\n",
    "for i,j,k in zip(df['Married'],df['Gender'],df['Application_Status']):\n",
    "    if i=='Yes' and j=='Male'and k=='N':\n",
    "        c=c+1\n",
    "    if i=='Yes' and j=='Male':\n",
    "        d=d+1\n",
    "print(\"% of rejections for married male applicants : {}\".format(c/d*100))"
   ]
  },
  {
   "cell_type": "code",
   "execution_count": 52,
   "id": "81b2706b",
   "metadata": {},
   "outputs": [],
   "source": [
    "sel=df['Property_Area'].value_counts()"
   ]
  },
  {
   "cell_type": "code",
   "execution_count": 53,
   "id": "732b432f",
   "metadata": {},
   "outputs": [
    {
     "data": {
      "text/plain": [
       "Semiurban    197\n",
       "Urban        165\n",
       "Rural        149\n",
       "Name: Property_Area, dtype: int64"
      ]
     },
     "execution_count": 53,
     "metadata": {},
     "output_type": "execute_result"
    }
   ],
   "source": [
    "sel"
   ]
  },
  {
   "cell_type": "code",
   "execution_count": 56,
   "id": "f373caef",
   "metadata": {},
   "outputs": [
    {
     "name": "stdout",
     "output_type": "stream",
     "text": [
      "<pandas.core.groupby.generic.DataFrameGroupBy object at 0x00000248A0760DC0>\n",
      "Y    90\n",
      "N    59\n",
      "Name: Application_Status, dtype: int64\n",
      "Approval ratio for Rural: 60.40268456375839\n",
      "\n",
      "Y    153\n",
      "N     44\n",
      "Name: Application_Status, dtype: int64\n",
      "Approval ratio for Semiurban: 77.66497461928934\n",
      "\n",
      "Y    104\n",
      "N     61\n",
      "Name: Application_Status, dtype: int64\n",
      "Approval ratio for Urban: 63.030303030303024\n",
      "\n",
      "\n",
      "Maximum approval ratio:- 77.66497461928934\n",
      "Type:- Semiurban\n"
     ]
    }
   ],
   "source": [
    "P_Area = df.groupby('Property_Area')\n",
    "print(P_Area)\n",
    "\n",
    "p_type = []\n",
    "Approval_ratio = []\n",
    "i = 0\n",
    "for a,j in P_Area:\n",
    "    p_type.append(a)\n",
    "    prop = j\n",
    "    \n",
    "    arr = prop['Application_Status'].value_counts()     \n",
    "    print(arr) # 0th index: 'Y', 1st index: 'N'\n",
    "    Approval_ratio.append(arr[0]/sum(arr)*100)\n",
    "    print(\"Approval ratio for {}: {}\".format(p_type[i], Approval_ratio[i]))\n",
    "    print()\n",
    "    i += 1\n",
    "print()\n",
    "print(\"Maximum approval ratio:- {}\\nType:- {}\".format(max(Approval_ratio), p_type[Approval_ratio.index(max(Approval_ratio))]))"
   ]
  },
  {
   "cell_type": "code",
   "execution_count": 69,
   "id": "6f4cf652",
   "metadata": {},
   "outputs": [
    {
     "name": "stdout",
     "output_type": "stream",
     "text": [
      "high\n",
      "40\n",
      "45\n",
      "Average dependents of high income group: 0.8888888888888888\n",
      "\n",
      "low\n",
      "175\n",
      "273\n",
      "Average dependents of low income group: 0.6410256410256411\n",
      "\n",
      "medium\n",
      "178\n",
      "193\n",
      "Average dependents of medium income group: 0.9222797927461139\n",
      "\n"
     ]
    }
   ],
   "source": [
    "df1 = df.drop(['Application_ID', 'Gender', 'Married', 'Education','Self_Employed', 'Credit_History', 'Property_Area','Application_Status'],axis=1) \n",
    "df1.replace(to_replace=[\"3+\"],value=\"3\",inplace=True)\n",
    "df1['Dependents'] = df1['Dependents'].astype(int)\n",
    "Income = df1.groupby('Income')\n",
    "\n",
    "for a,j in Income:\n",
    "    print(a)\n",
    "    print(sum(j['Dependents']))\n",
    "    print(j['Dependents'].count())\n",
    "    print(\"Average dependents of {} income group: {}\".format(a,sum(j['Dependents'])/j['Dependents'].count()))\n",
    "    print()"
   ]
  },
  {
   "cell_type": "code",
   "execution_count": 88,
   "id": "5ded8ae8",
   "metadata": {},
   "outputs": [
    {
     "data": {
      "text/plain": [
       "Index(['Application_ID', 'Gender', 'Married', 'Dependents', 'Education',\n",
       "       'Self_Employed', 'Credit_History', 'Property_Area', 'Income',\n",
       "       'Application_Status'],\n",
       "      dtype='object')"
      ]
     },
     "execution_count": 88,
     "metadata": {},
     "output_type": "execute_result"
    }
   ],
   "source": [
    "df.columns"
   ]
  },
  {
   "cell_type": "code",
   "execution_count": 89,
   "id": "7138b298",
   "metadata": {},
   "outputs": [],
   "source": [
    "df.replace(to_replace=[\"3+\"],value=\"3\",inplace=True)\n"
   ]
  },
  {
   "cell_type": "code",
   "execution_count": 90,
   "id": "439e498a",
   "metadata": {},
   "outputs": [],
   "source": [
    "from sklearn.model_selection import train_test_split\n",
    "train_set, test_set = train_test_split(df, test_size=0.2, random_state=42)\n"
   ]
  },
  {
   "cell_type": "code",
   "execution_count": 91,
   "id": "ae26bfb0",
   "metadata": {},
   "outputs": [],
   "source": [
    "X_train = train_set.drop(['Application_ID','Application_Status'],axis=1)\n",
    "y_train = train_set['Application_Status'].copy()"
   ]
  },
  {
   "cell_type": "code",
   "execution_count": 92,
   "id": "0286fee4",
   "metadata": {},
   "outputs": [
    {
     "data": {
      "text/plain": [
       "208    Y\n",
       "204    Y\n",
       "301    Y\n",
       "390    N\n",
       "416    N\n",
       "      ..\n",
       "106    Y\n",
       "270    Y\n",
       "348    N\n",
       "435    Y\n",
       "102    Y\n",
       "Name: Application_Status, Length: 408, dtype: object"
      ]
     },
     "execution_count": 92,
     "metadata": {},
     "output_type": "execute_result"
    }
   ],
   "source": [
    "y_train"
   ]
  },
  {
   "cell_type": "code",
   "execution_count": 93,
   "id": "0eec520c",
   "metadata": {},
   "outputs": [],
   "source": [
    "X_train = pd.get_dummies(X_train, columns = ['Gender','Married','Education','Self_Employed','Property_Area','Income'])"
   ]
  },
  {
   "cell_type": "code",
   "execution_count": 94,
   "id": "331892d0",
   "metadata": {},
   "outputs": [
    {
     "data": {
      "text/plain": [
       "Index(['Dependents', 'Credit_History', 'Gender_Female', 'Gender_Male',\n",
       "       'Married_No', 'Married_Yes', 'Education_Graduate',\n",
       "       'Education_Not Graduate', 'Self_Employed_No', 'Self_Employed_Yes',\n",
       "       'Property_Area_Rural', 'Property_Area_Semiurban', 'Property_Area_Urban',\n",
       "       'Income_high', 'Income_low', 'Income_medium'],\n",
       "      dtype='object')"
      ]
     },
     "execution_count": 94,
     "metadata": {},
     "output_type": "execute_result"
    }
   ],
   "source": [
    "X_train.columns\n"
   ]
  },
  {
   "cell_type": "code",
   "execution_count": 95,
   "id": "3abd34bc",
   "metadata": {},
   "outputs": [],
   "source": [
    "from sklearn.pipeline import Pipeline\n",
    "from sklearn.preprocessing import StandardScaler,Normalizer\n",
    "my_pipeline = Pipeline([\n",
    "    ('std_scaler', StandardScaler())\n",
    "])"
   ]
  },
  {
   "cell_type": "code",
   "execution_count": 96,
   "id": "741adb5c",
   "metadata": {},
   "outputs": [],
   "source": [
    "tr_X_train = my_pipeline.fit_transform(X_train)"
   ]
  },
  {
   "cell_type": "code",
   "execution_count": 97,
   "id": "f54ec0b3",
   "metadata": {},
   "outputs": [],
   "source": [
    "from sklearn.preprocessing import LabelEncoder\n",
    "le = LabelEncoder()\n",
    "labels = le.fit_transform(y_train)"
   ]
  },
  {
   "cell_type": "code",
   "execution_count": 98,
   "id": "0b49f201",
   "metadata": {},
   "outputs": [
    {
     "data": {
      "text/plain": [
       "RandomForestClassifier()"
      ]
     },
     "execution_count": 98,
     "metadata": {},
     "output_type": "execute_result"
    }
   ],
   "source": [
    "from sklearn.ensemble import RandomForestClassifier\n",
    "model = RandomForestClassifier()\n",
    "model.fit(X_train,labels)"
   ]
  },
  {
   "cell_type": "code",
   "execution_count": null,
   "id": "4d4957b1",
   "metadata": {},
   "outputs": [],
   "source": []
  },
  {
   "cell_type": "code",
   "execution_count": 99,
   "id": "13188f0d",
   "metadata": {},
   "outputs": [],
   "source": [
    "from sklearn.metrics import mean_squared_error, accuracy_score\n",
    "import numpy as np\n",
    "y_pred = model.predict(X_train)\n",
    "mse = mean_squared_error(labels, y_pred)\n",
    "rmse = np.sqrt(mse)"
   ]
  },
  {
   "cell_type": "code",
   "execution_count": 100,
   "id": "2808fd96",
   "metadata": {},
   "outputs": [
    {
     "data": {
      "text/plain": [
       "0.34655164004183603"
      ]
     },
     "execution_count": 100,
     "metadata": {},
     "output_type": "execute_result"
    }
   ],
   "source": [
    "rmse"
   ]
  },
  {
   "cell_type": "code",
   "execution_count": 101,
   "id": "2b095e46",
   "metadata": {},
   "outputs": [
    {
     "data": {
      "text/plain": [
       "0.8799019607843137"
      ]
     },
     "execution_count": 101,
     "metadata": {},
     "output_type": "execute_result"
    }
   ],
   "source": [
    "ac = accuracy_score(labels, y_pred)\n",
    "ac"
   ]
  },
  {
   "cell_type": "code",
   "execution_count": 115,
   "id": "91115214",
   "metadata": {},
   "outputs": [],
   "source": [
    "X_test = test_set.drop(['Application_ID','Application_Status'],axis=1)\n",
    "y_test = test_set['Application_Status'].copy()"
   ]
  },
  {
   "cell_type": "code",
   "execution_count": 116,
   "id": "20a876dd",
   "metadata": {},
   "outputs": [],
   "source": [
    "X_test = pd.get_dummies(X_test, columns = ['Gender','Married','Education','Self_Employed','Property_Area','Income'])"
   ]
  },
  {
   "cell_type": "code",
   "execution_count": 117,
   "id": "92cecc68",
   "metadata": {},
   "outputs": [],
   "source": [
    "labels_test = le.fit_transform(y_test)"
   ]
  },
  {
   "cell_type": "code",
   "execution_count": 118,
   "id": "a6467894",
   "metadata": {},
   "outputs": [],
   "source": [
    "tr_X_test = my_pipeline.fit_transform(X_test)"
   ]
  },
  {
   "cell_type": "code",
   "execution_count": 119,
   "id": "8f1a21c5",
   "metadata": {},
   "outputs": [
    {
     "name": "stderr",
     "output_type": "stream",
     "text": [
      "C:\\Users\\rishu\\AppData\\Roaming\\Python\\Python39\\site-packages\\sklearn\\base.py:450: UserWarning: X does not have valid feature names, but RandomForestClassifier was fitted with feature names\n",
      "  warnings.warn(\n"
     ]
    }
   ],
   "source": [
    "final_predictions = model.predict(tr_X_test)\n",
    "final_mse = mean_squared_error(labels_test, final_predictions)\n",
    "final_rmse = np.sqrt(final_mse)"
   ]
  },
  {
   "cell_type": "code",
   "execution_count": 120,
   "id": "5f6e2701",
   "metadata": {},
   "outputs": [
    {
     "data": {
      "text/plain": [
       "0.8302532073708084"
      ]
     },
     "execution_count": 120,
     "metadata": {},
     "output_type": "execute_result"
    }
   ],
   "source": [
    "final_rmse"
   ]
  },
  {
   "cell_type": "code",
   "execution_count": null,
   "id": "539afbaf",
   "metadata": {},
   "outputs": [],
   "source": []
  },
  {
   "cell_type": "code",
   "execution_count": null,
   "id": "4f365f2e",
   "metadata": {},
   "outputs": [],
   "source": [
    "import seaborn as se\n",
    "from tensorflow.math import confusion_matrix\n",
    "import matplotlib.pyplot as plt\n",
    "\n",
    "\n",
    "y_classes = final_predictions\n",
    "cm = confusion_matrix(labels_test,y_classes)\n",
    "\n",
    "plt.figure(figsize=(15,10))\n",
    "se.heatmap(cm, annot = True)\n",
    "plt.show()"
   ]
  },
  {
   "cell_type": "code",
   "execution_count": null,
   "id": "f42a925f",
   "metadata": {},
   "outputs": [],
   "source": []
  }
 ],
 "metadata": {
  "kernelspec": {
   "display_name": "Python 3 (ipykernel)",
   "language": "python",
   "name": "python3"
  },
  "language_info": {
   "codemirror_mode": {
    "name": "ipython",
    "version": 3
   },
   "file_extension": ".py",
   "mimetype": "text/x-python",
   "name": "python",
   "nbconvert_exporter": "python",
   "pygments_lexer": "ipython3",
   "version": "3.9.7"
  }
 },
 "nbformat": 4,
 "nbformat_minor": 5
}
